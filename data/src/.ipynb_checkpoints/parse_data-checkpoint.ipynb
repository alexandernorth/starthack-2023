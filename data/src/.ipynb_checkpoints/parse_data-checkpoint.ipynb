{
 "cells": [
  {
   "cell_type": "code",
   "execution_count": null,
   "id": "b5674ac2",
   "metadata": {},
   "outputs": [],
   "source": [
    "import pandas as pd\n",
    "import numpy as np\n",
    "\n",
    "import os"
   ]
  },
  {
   "cell_type": "code",
   "execution_count": null,
   "id": "b030adb0",
   "metadata": {},
   "outputs": [],
   "source": [
    "df_zell = pd.read_excel(os.path.join(\"..\",\"..\", \"..\", \"BellFoodGroup_STARTHACK23\", \"Export_Energydata_Bell_CH_Zell.xlsx\"), skiprows=21, usecols='A:B')\n",
    "\n",
    "df_zell[\"Timestamp:\"] = pd.to_datetime(df_zell[\"Timestamp:\"], format='%Y-%m-%d %H:%M:%S')\n",
    "df_zell[\"Timestamp:\"] = df_zell[\"Timestamp:\"].dt.strftime(\"%Y-%m-%dT%H:%M:%SZ\")\n",
    "\n",
    "df_zell = df_zell.rename(columns={\"Timestamp:\": \"time\", \"Unnamed: 1\": \"kw\"})\n",
    "\n",
    "df_zell = df_zell[df_zell['kw'].notna()]\n",
    "\n",
    "df_zell.insert(0, 'site', 0)\n",
    "\n",
    "#df_zell.head()"
   ]
  },
  {
   "cell_type": "code",
   "execution_count": null,
   "id": "9a2fceeb",
   "metadata": {},
   "outputs": [],
   "source": [
    "df_schiltach = pd.read_excel(os.path.join(\"..\",\"..\", \"..\", \"BellFoodGroup_STARTHACK23\", \"Export_Energydata_Bell_DE_Schiltach.xlsx\"), skiprows=21, usecols='A:B')\n",
    "\n",
    "df_schiltach[\"Timestamp:\"] = pd.to_datetime(df_schiltach[\"Timestamp:\"], format='%Y-%m-%d %H:%M:%S')\n",
    "df_schiltach[\"Timestamp:\"] = df_schiltach[\"Timestamp:\"].dt.strftime(\"%Y-%m-%dT%H:%M:%SZ\")\n",
    "\n",
    "df_schiltach = df_schiltach.rename(columns={\"Timestamp:\": \"time\", \"Unnamed: 1\": \"kw\"})\n",
    "\n",
    "df_schiltach = df_schiltach[df_schiltach['kw'].notna()]\n",
    "\n",
    "df_schiltach.insert(0, 'site', 1)\n",
    "\n",
    "#df_schiltach.head()"
   ]
  },
  {
   "cell_type": "code",
   "execution_count": null,
   "id": "d37b66ca",
   "metadata": {},
   "outputs": [],
   "source": [
    "df_feldhof = pd.read_excel(os.path.join(\"..\",\"..\", \"..\", \"BellFoodGroup_STARTHACK23\", \"Export_Energydata_Eisberg_DaellikonFeldhof.xlsx\"), skiprows=21, usecols='A:B')\n",
    "\n",
    "df_feldhof[\"Timestamp:\"] = pd.to_datetime(df_feldhof[\"Timestamp:\"], format='%Y-%m-%d %H:%M:%S')\n",
    "df_feldhof[\"Timestamp:\"] = df_feldhof[\"Timestamp:\"].dt.strftime(\"%Y-%m-%dT%H:%M:%SZ\")\n",
    "\n",
    "df_feldhof = df_feldhof.rename(columns={\"Timestamp:\": \"time\", \"Unnamed: 1\": \"kw\"})\n",
    "\n",
    "df_feldhof = df_feldhof[df_feldhof['kw'].notna()]\n",
    "\n",
    "df_feldhof.insert(0, 'site', 2)\n",
    "\n",
    "#df_feldhof.head()"
   ]
  },
  {
   "cell_type": "code",
   "execution_count": null,
   "id": "28dc44d2",
   "metadata": {},
   "outputs": [],
   "source": [
    "df_orbe = pd.read_excel(os.path.join(\"..\",\"..\", \"..\", \"BellFoodGroup_STARTHACK23\", \"Export_Energydata_Hilcona_Orbe.xlsx\"), skiprows=21, usecols='A:B')\n",
    "\n",
    "df_orbe[\"Timestamp:\"] = pd.to_datetime(df_orbe[\"Timestamp:\"], format='%Y-%m-%d %H:%M:%S')\n",
    "df_orbe[\"Timestamp:\"] = df_orbe[\"Timestamp:\"].dt.strftime(\"%Y-%m-%dT%H:%M:%SZ\")\n",
    "\n",
    "df_orbe = df_orbe.rename(columns={\"Timestamp:\": \"time\", \"Unnamed: 1\": \"kw\"})\n",
    "\n",
    "df_orbe = df_orbe[df_orbe['kw'].notna()]\n",
    "\n",
    "df_orbe.insert(0, 'site', 3)\n",
    "\n",
    "#df_orbe.head()"
   ]
  },
  {
   "cell_type": "code",
   "execution_count": null,
   "id": "10f408bd",
   "metadata": {},
   "outputs": [],
   "source": [
    "df = pd.concat([df_zell, df_schiltach, df_feldhof, df_orbe], ignore_index=True)"
   ]
  },
  {
   "cell_type": "markdown",
   "id": "5c9bf05d",
   "metadata": {},
   "source": [
    "engine = create_engine('sqlite://', echo=False)\n",
    "df.to_sql(name=\"sitedata\", con=engine)\n",
    "\n",
    "with open('sitedata.sql', 'w') as f:\n",
    "    with engine.connect() as conn:\n",
    "        for line in conn.connection.iterdump():\n",
    "            f.write(line)\n",
    "            f.write('\\n')"
   ]
  },
  {
   "cell_type": "code",
   "execution_count": null,
   "id": "f875fc2b",
   "metadata": {},
   "outputs": [],
   "source": [
    "with open('sitedata.json.zip', 'wb') as f:\n",
    "    df.to_json(f, compression='zip', orient='records', date_format='iso')"
   ]
  }
 ],
 "metadata": {
  "kernelspec": {
   "display_name": "Python 3 (ipykernel)",
   "language": "python",
   "name": "python3"
  },
  "language_info": {
   "codemirror_mode": {
    "name": "ipython",
    "version": 3
   },
   "file_extension": ".py",
   "mimetype": "text/x-python",
   "name": "python",
   "nbconvert_exporter": "python",
   "pygments_lexer": "ipython3",
   "version": "3.11.0"
  }
 },
 "nbformat": 4,
 "nbformat_minor": 5
}
